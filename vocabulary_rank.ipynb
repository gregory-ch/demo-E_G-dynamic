{
  "nbformat": 4,
  "nbformat_minor": 0,
  "metadata": {
    "colab": {
      "private_outputs": true,
      "provenance": [],
      "mount_file_id": "1TO906kofxsf6Ymra64GcGvsoIIrZocV5",
      "authorship_tag": "ABX9TyO+aDoFHSGuQwt7ft099z7b",
      "include_colab_link": true
    },
    "kernelspec": {
      "name": "python3",
      "display_name": "Python 3"
    },
    "language_info": {
      "name": "python"
    }
  },
  "cells": [
    {
      "cell_type": "markdown",
      "metadata": {
        "id": "view-in-github",
        "colab_type": "text"
      },
      "source": [
        "<a href=\"https://colab.research.google.com/github/gregory-ch/demo-E_G-dynamic/blob/master/vocabulary_rank.ipynb\" target=\"_parent\"><img src=\"https://colab.research.google.com/assets/colab-badge.svg\" alt=\"Open In Colab\"/></a>"
      ]
    },
    {
      "cell_type": "code",
      "source": [
        "%pip install  wikidata\n",
        "%pip install translators --upgrade\n",
        "# %pip install termcolor\n",
        "# %pip install ipywidgets"
      ],
      "metadata": {
        "id": "bVuGKiRZ1Ptf"
      },
      "execution_count": null,
      "outputs": []
    },
    {
      "cell_type": "code",
      "execution_count": null,
      "metadata": {
        "id": "rtWizF4U0Yb3"
      },
      "outputs": [],
      "source": [
        "import requests\n",
        "import re\n",
        "from wikidata.client import Client\n",
        "API_ENDPOINT = \"https://en.wiktionary.org/w/api.php\"\n",
        "client = Client()"
      ]
    },
    {
      "cell_type": "code",
      "source": [
        "def get_data(query):\n",
        "    params = {\n",
        "        'action': 'query',\n",
        "        'format': 'json',\n",
        "        'prop':'revisions',\n",
        "        'rvprop':'content',\n",
        "        'formatversion':'2',\n",
        "        'pageids': query,\n",
        "    }\n",
        "    r = requests.get(API_ENDPOINT, params=params)\n",
        "    return r.json()\n",
        "\n",
        "def WikiParser(query):\n",
        "  data = get_data(query)\n",
        "  return re.findall('\\[\\[(.*?)\\]\\]', data['query']['pages'][0]['revisions'][0]['content'])"
      ],
      "metadata": {
        "id": "LZsg1pQY0kDe"
      },
      "execution_count": null,
      "outputs": []
    },
    {
      "cell_type": "code",
      "source": [
        "first_10k = WikiParser('192306')[1:100]\n",
        "# remove [1:100] for full functionality, here just an exammple (уберите [1:100] для того тчобы получить полный список, ограничение в 100 стоит для того чтобы освоится с функционалом)"
      ],
      "metadata": {
        "id": "ChiwbKHd0yM_"
      },
      "execution_count": null,
      "outputs": []
    },
    {
      "cell_type": "code",
      "source": [
        "from google.colab import drive\n",
        "drive.mount('drive')\n",
        "import translators as ts\n",
        "from tqdm import tqdm\n",
        "from time import sleep\n",
        "import pandas as pd\n",
        "def translate_to_df(df, indexes):\n",
        "  matches = tqdm(indexes, ncols=80, ascii=True, desc='Total')\n",
        "  list_df = []\n",
        "  for match in matches:\n",
        "    try:\n",
        "      list_df.append([df[match], ts.google(df[match] , to_language = 'ru')])\n",
        "    except Exception as e: \n",
        "      print(e)\n",
        "      list_df.append([df[match], None])\n",
        "  return pd.DataFrame( columns = ['word', 'translation'],data = list_df )\n",
        "ids = range(len(first_10k))\n",
        "# ids = find_all_blank(first10kdf, ['word','is_rubbish','known','passive','active'])\n",
        "first10kdf = translate_to_df(first_10k, ids)\n",
        "first10kdf.to_csv('/content/drive/MyDrive/freq_list_10k3.csv',sep=',', header = True)"
      ],
      "metadata": {
        "id": "1kZW9EykO70W"
      },
      "execution_count": null,
      "outputs": []
    },
    {
      "cell_type": "code",
      "source": [
        "import pandas as pd\n",
        "import numpy as np\n",
        "from IPython.display import clear_output\n",
        "first10kdf = pd.read_csv('/content/drive/MyDrive/freq_list_10k3.csv', index_col=0)\n",
        "# first10kdf = first10kdf.reindex(first10kdf.columns.tolist() + ['is_rubbish','known','passive','active'], axis=1)"
      ],
      "metadata": {
        "id": "Cy5XBlCQVsea"
      },
      "execution_count": null,
      "outputs": []
    },
    {
      "cell_type": "code",
      "source": [
        "def find_all_blank(df, keys):\n",
        "  target_df=df[df.columns.difference(keys)]\n",
        "  return list(pd.isnull(target_df).all(1).to_numpy().nonzero()[0])\n",
        "\n",
        "# find_all_blank(first10kdf, ['word','is_rubbish','known','passive','active'])"
      ],
      "metadata": {
        "id": "x35xkxM26OGw"
      },
      "execution_count": null,
      "outputs": []
    },
    {
      "cell_type": "code",
      "source": [
        "# %%capture --no-display\n",
        "import ipywidgets as widgets\n",
        "from termcolor import colored\n",
        "inpit_area = widgets.Text(value='first10kdf', placeholder='Type something', description='name of df:',disabled=False)\n",
        "strt_btn = widgets.Button(description='start')\n",
        "put_to_rubbish_btn = widgets.Button(description='rubbish')\n",
        "put_to_known_btn = widgets.Button(description='known')\n",
        "put_to_active_btn = widgets.Button(description='active')\n",
        "put_to_passive_btn = widgets.Button(description='passive')\n",
        "end_btn = widgets.Button(description='quit&save')\n",
        "\n",
        "df_towork=\"\"\n",
        "def strt_btn_eventhandler(obj):\n",
        "    global df_towork \n",
        "    df_towork = globals()[inpit_area.value]\n",
        "    numb = min(find_all_blank(df_towork, ['word','translation']))\n",
        "    output = str('curent position \"'+ str(df_towork.index[numb])+ '\" word: \"'+\n",
        "                 colored(str(df_towork.iloc[numb].word),\"green\")+'\" rus: \"'+\n",
        "    str(df_towork.iloc[numb].translation)+'\"')\n",
        "    print(\"\\r\", colored(output, attrs=[\"bold\"]), end=\"\")\n",
        "\n",
        "strt_btn.on_click(strt_btn_eventhandler)\n",
        "\n",
        "def end_save(obj):\n",
        "    global df_towork \n",
        "    df_towork.to_csv(r'/content/drive/MyDrive/freq_list_10k3.csv',sep=',', header = True)\n",
        "    clear_output()\n",
        "\n",
        "end_btn.on_click(end_save)\n",
        "\n",
        "def put_to_rubbish_btn_eventhandler(obj):\n",
        "    global df_towork \n",
        "    df_towork=df_towork\n",
        "    numb = min(find_all_blank(df_towork, ['word','translation']))\n",
        "    df_towork.loc[numb,'is_rubbish']= 1\n",
        "    output = str('curent position \"'+ str(df_towork.index[numb+1])+ '\" word: \"'+\n",
        "                 colored(str(df_towork.iloc[numb+1].word),\"green\")+'\" rus: \"'+\n",
        "    str(df_towork.iloc[numb+1].translation)+'\"')\n",
        "    print(\"\\r\", colored(output, attrs=[\"bold\"]), end=\"\")\n",
        "\n",
        "put_to_rubbish_btn.on_click(put_to_rubbish_btn_eventhandler)\n",
        "\n",
        "def put_to_known_btn_eventhandler(obj):\n",
        "    global df_towork \n",
        "    df_towork=df_towork\n",
        "    numb = min(find_all_blank(df_towork, ['word','translation']))\n",
        "    df_towork.loc[numb,'known']= 1\n",
        "    output = str('curent position \"'+ str(df_towork.index[numb+1])+ '\" word: \"'+\n",
        "                 colored(str(df_towork.iloc[numb+1].word),\"green\")+'\" rus: \"'+\n",
        "    str(df_towork.iloc[numb+1].translation)+'\"')\n",
        "    print(\"\\r\", colored(output, attrs=[\"bold\"]), end=\"\")\n",
        "\n",
        "put_to_known_btn.on_click(put_to_known_btn_eventhandler)\n",
        "\n",
        "def put_to_active_btn_eventhandler(obj):\n",
        "    global df_towork \n",
        "    df_towork=df_towork\n",
        "    numb = min(find_all_blank(df_towork, ['word','translation']))\n",
        "    df_towork.loc[numb,'active']= 1\n",
        "    output = str('curent position \"'+ str(df_towork.index[numb+1])+ '\" word: \"'+\n",
        "                 colored(str(df_towork.iloc[numb+1].word),\"green\")+'\" rus: \"'+\n",
        "    str(df_towork.iloc[numb+1].translation)+'\"')\n",
        "    print(\"\\r\", colored(output, attrs=[\"bold\"]), end=\"\")\n",
        "\n",
        "put_to_active_btn.on_click(put_to_active_btn_eventhandler)\n",
        "\n",
        "def put_to_passive_btn_eventhandler(obj):\n",
        "    global df_towork \n",
        "    df_towork=df_towork\n",
        "    numb = min(find_all_blank(df_towork, ['word','translation']))\n",
        "    df_towork.loc[numb,'passive']= 1\n",
        "    output = str('curent position \"'+ str(df_towork.index[numb+1])+ '\" word: \"'+\n",
        "                 colored(str(df_towork.iloc[numb+1].word),\"green\")+'\" rus: \"'+\n",
        "    str(df_towork.iloc[numb+1].translation)+'\"')\n",
        "    print(\"\\r\", colored(output, attrs=[\"bold\"]), end=\"\")\n",
        "\n",
        "put_to_passive_btn.on_click(put_to_passive_btn_eventhandler)\n",
        "\n",
        "display(widgets.HBox(children=[strt_btn,inpit_area,end_btn]),widgets.HBox(children=[put_to_rubbish_btn,\n",
        "                                                                                    put_to_active_btn,put_to_passive_btn,\n",
        "                                                                                    put_to_known_btn]))"
      ],
      "metadata": {
        "id": "8bTx0HjePjDZ"
      },
      "execution_count": null,
      "outputs": []
    }
  ]
}